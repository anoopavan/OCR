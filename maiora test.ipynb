{
 "cells": [
  {
   "cell_type": "code",
   "execution_count": 17,
   "id": "b4ff017a",
   "metadata": {},
   "outputs": [
    {
     "name": "stdout",
     "output_type": "stream",
     "text": [
      "Extraction complete. Data saved to extracted_tables.xlsx\n"
     ]
    }
   ],
   "source": [
    "import pdfplumber\n",
    "import pandas as pd\n",
    "pdf_files = {\n",
    "    r\"C:\\Users\\anoop\\OneDrive\\Desktop\\MAIORA\\cardio_structured.pdf\": 6,\n",
    "    r\"C:\\Users\\anoop\\OneDrive\\Desktop\\MAIORA\\prot_sap_1.pdf\": 50,\n",
    "    r\"C:\\Users\\anoop\\OneDrive\\Desktop\\MAIORA\\prot_sap_102.pdf\": 14\n",
    "}\n",
    "extracted_tables = {}\n",
    "\n",
    "for pdf_file, page_num in pdf_files.items():\n",
    "    with pdfplumber.open(pdf_file) as pdf:\n",
    "        if page_num <= len(pdf.pages):\n",
    "            page = pdf.pages[page_num - 1]  \n",
    "            tables = page.extract_tables()\n",
    "            extracted_tables[pdf_file] = tables\n",
    "output_excel_path = \"extracted_tables.xlsx\"\n",
    "with pd.ExcelWriter(output_excel_path, engine=\"openpyxl\") as writer:\n",
    "    for pdf_file, tables in extracted_tables.items():\n",
    "        if tables:  \n",
    "            df = pd.DataFrame(tables[0])\n",
    "            if \"cardio_structured\" in pdf_file:\n",
    "                sheet_name = \"Cardio Page 6\"\n",
    "            elif \"prot_sap_102\" in pdf_file:\n",
    "                sheet_name = \"Prot SAP 102 Page 50\"\n",
    "            elif \"prot_sap_1\" in pdf_file:\n",
    "                sheet_name = \"Prot SAP 1 Page 14\"\n",
    "            else:\n",
    "                sheet_name = \"Unknown\"\n",
    "            df.to_excel(writer, sheet_name=sheet_name, index=False, header=False)\n",
    "\n",
    "print(f\"Extraction complete. Data saved to {output_excel_path}\")"
   ]
  },
  {
   "cell_type": "code",
   "execution_count": null,
   "id": "a3fe844c",
   "metadata": {},
   "outputs": [],
   "source": []
  }
 ],
 "metadata": {
  "kernelspec": {
   "display_name": "Python 3 (ipykernel)",
   "language": "python",
   "name": "python3"
  },
  "language_info": {
   "codemirror_mode": {
    "name": "ipython",
    "version": 3
   },
   "file_extension": ".py",
   "mimetype": "text/x-python",
   "name": "python",
   "nbconvert_exporter": "python",
   "pygments_lexer": "ipython3",
   "version": "3.9.13"
  }
 },
 "nbformat": 4,
 "nbformat_minor": 5
}
